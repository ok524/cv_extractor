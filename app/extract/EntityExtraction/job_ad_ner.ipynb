{
 "cells": [
  {
   "cell_type": "code",
   "execution_count": 14,
   "metadata": {},
   "outputs": [],
   "source": [
    "import spacy\n",
    "\n",
    "import utils\n",
    "from ner import pre_description\n",
    "from ner import convert_brat\n",
    "from ner.ner_builder import NER"
   ]
  },
  {
   "cell_type": "code",
   "execution_count": 15,
   "metadata": {},
   "outputs": [],
   "source": [
    "path_model = r'D:/Work/Program/hard_skill/brat/data/project/ner/test'\n",
    "path_train_in = r'D:/Work/Program/hard_skill/brat/data/project/ner/train_data'\n",
    "path_log = r'D:/Work/Program/hard_skill/brat/data/project/ner/train_log'\n",
    "path_brat = r'D:/Work/Program/hard_skill/brat/data/project/ner/'\n",
    "path_dump = r'D:/Work/Program/jobs_adviser/data/jobsdb/dump.json'"
   ]
  },
  {
   "cell_type": "code",
   "execution_count": null,
   "metadata": {},
   "outputs": [],
   "source": [
    "# Extract job description from dump.json\n",
    "utils.extract_desc_ann(path_dump, path_brat, 500)"
   ]
  },
  {
   "cell_type": "code",
   "execution_count": 12,
   "metadata": {},
   "outputs": [],
   "source": [
    "# Convert brat annotation data format to what Spacy can accept\n",
    "# Only run the following codes when manual text labeling is done\n",
    "convert_brat.process(path_brat, path_train_in)"
   ]
  },
  {
   "cell_type": "code",
   "execution_count": 16,
   "metadata": {},
   "outputs": [],
   "source": [
    "# Train the model\n",
    "job_ner = NER()\n",
    "job_ner.initialize(path_train_in, path_model, path_log, model='en_core_web_sm')\n",
    "job_ner.train(n_iter=200)"
   ]
  },
  {
   "cell_type": "code",
   "execution_count": 17,
   "metadata": {},
   "outputs": [],
   "source": [
    "# Load the trained model\n",
    "ner_model = spacy.load(path_model)"
   ]
  },
  {
   "cell_type": "code",
   "execution_count": 18,
   "metadata": {},
   "outputs": [
    {
     "name": "stdout",
     "output_type": "stream",
     "text": [
      "Entities [('Diploma', 'Level'), ('Accounting', 'HardSkill'), ('equivalent', 'HardSkill'), ('Minimum of 2 years’ relevant working experience', 'Level'), ('experience', 'Level'), ('accounting', 'HardSkill'), ('Good', 'Level'), ('PC skills', 'HardSkill'), ('MS office', 'HardSkill'), ('Chinese Word Processing', 'HardSkill'), ('Good Command', 'Level'), ('written and spoken', 'Attribute'), ('English', 'HardSkill'), ('Chinese', 'HardSkill'), ('Proficiency', 'Level'), ('Data Analysis', 'HardSkill'), ('Excel', 'HardSkill'), ('Good', 'Level'), ('communication', 'SoftSkill'), ('interpersonal skills', 'SoftSkill'), ('Good', 'Level'), ('analytical skills', 'SoftSkill'), ('able to', 'Level'), ('work independently', 'SoftSkill')]\n"
     ]
    }
   ],
   "source": [
    "# Try the model\n",
    "path_txt = r'D:/Work/Program/jobs_adviser/test/5dbc075810c5285237c386fd.txt'\n",
    "txt_in = pre_description.preprocess(path_txt)\n",
    "doc = ner_model(txt_in)\n",
    "print(\"Entities\", [(ent.text, ent.label_) for ent in doc.ents])"
   ]
  },
  {
   "cell_type": "code",
   "execution_count": null,
   "metadata": {},
   "outputs": [],
   "source": []
  }
 ],
 "metadata": {
  "kernelspec": {
   "display_name": "Python 3",
   "language": "python",
   "name": "python3"
  },
  "language_info": {
   "codemirror_mode": {
    "name": "ipython",
    "version": 3
   },
   "file_extension": ".py",
   "mimetype": "text/x-python",
   "name": "python",
   "nbconvert_exporter": "python",
   "pygments_lexer": "ipython3",
   "version": "3.8.3"
  }
 },
 "nbformat": 4,
 "nbformat_minor": 4
}
